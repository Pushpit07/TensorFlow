{
  "nbformat": 4,
  "nbformat_minor": 0,
  "metadata": {
    "colab": {
      "name": "tensorflow.ipynb",
      "provenance": [],
      "collapsed_sections": [],
      "authorship_tag": "ABX9TyOKeLwHWZdkWOiNFfdlS9+a",
      "include_colab_link": true
    },
    "kernelspec": {
      "name": "python3",
      "display_name": "Python 3"
    },
    "language_info": {
      "name": "python"
    }
  },
  "cells": [
    {
      "cell_type": "markdown",
      "metadata": {
        "id": "view-in-github",
        "colab_type": "text"
      },
      "source": [
        "<a href=\"https://colab.research.google.com/github/Pushpit07/TensorFlow/blob/main/tensorflow.ipynb\" target=\"_parent\"><img src=\"https://colab.research.google.com/assets/colab-badge.svg\" alt=\"Open In Colab\"/></a>"
      ]
    },
    {
      "cell_type": "code",
      "metadata": {
        "id": "neiJsrZ5Sdtz"
      },
      "source": [
        "import tensorflow as tf"
      ],
      "execution_count": null,
      "outputs": []
    },
    {
      "cell_type": "code",
      "metadata": {
        "colab": {
          "base_uri": "https://localhost:8080/",
          "height": 35
        },
        "id": "G74452Y0TaMH",
        "outputId": "ca84b1b8-1faa-4f5b-cf7e-3def9183df99"
      },
      "source": [
        "tf.__version__"
      ],
      "execution_count": null,
      "outputs": [
        {
          "output_type": "execute_result",
          "data": {
            "application/vnd.google.colaboratory.intrinsic+json": {
              "type": "string"
            },
            "text/plain": [
              "'2.5.0'"
            ]
          },
          "metadata": {
            "tags": []
          },
          "execution_count": 3
        }
      ]
    },
    {
      "cell_type": "code",
      "metadata": {
        "id": "B-7VaWn0T9Bq"
      },
      "source": [
        "a = tf.constant(10)"
      ],
      "execution_count": null,
      "outputs": []
    },
    {
      "cell_type": "code",
      "metadata": {
        "id": "PEOq0V6AUDBf"
      },
      "source": [
        "b = tf.constant(20)"
      ],
      "execution_count": null,
      "outputs": []
    },
    {
      "cell_type": "code",
      "metadata": {
        "id": "ZozuZCpuUFp7"
      },
      "source": [
        "c = a + b"
      ],
      "execution_count": null,
      "outputs": []
    },
    {
      "cell_type": "code",
      "metadata": {
        "colab": {
          "base_uri": "https://localhost:8080/"
        },
        "id": "PwL7VHloUGzO",
        "outputId": "f0028732-f674-42d1-abad-87b138bb6597"
      },
      "source": [
        "tf.executing_eagerly()"
      ],
      "execution_count": null,
      "outputs": [
        {
          "output_type": "execute_result",
          "data": {
            "text/plain": [
              "True"
            ]
          },
          "metadata": {
            "tags": []
          },
          "execution_count": 8
        }
      ]
    },
    {
      "cell_type": "code",
      "metadata": {
        "colab": {
          "base_uri": "https://localhost:8080/"
        },
        "id": "9Lc1awK8UP5V",
        "outputId": "f1006e86-0391-45c5-ed54-1ba5ff580db0"
      },
      "source": [
        "type(c.numpy())"
      ],
      "execution_count": null,
      "outputs": [
        {
          "output_type": "execute_result",
          "data": {
            "text/plain": [
              "numpy.int32"
            ]
          },
          "metadata": {
            "tags": []
          },
          "execution_count": 15
        }
      ]
    },
    {
      "cell_type": "code",
      "metadata": {
        "colab": {
          "base_uri": "https://localhost:8080/"
        },
        "id": "Hd7-21RtXQQ0",
        "outputId": "c907f7f7-a43d-4482-e3cc-737872fad5be"
      },
      "source": [
        "v = tf.Variable([[3.,3.2], [1.2,2.2]], dtype=tf.float32, name='my_variable')\n",
        "\n",
        "print('name  : ', v.name)\n",
        "print('type  : ', v.dtype)\n",
        "print('shape : ', v.shape)\n",
        "print('device: ', v.device)"
      ],
      "execution_count": null,
      "outputs": [
        {
          "output_type": "stream",
          "text": [
            "name  :  my_variable:0\n",
            "type  :  <dtype: 'float32'>\n",
            "shape :  (2, 2)\n",
            "device:  /job:localhost/replica:0/task:0/device:CPU:0\n"
          ],
          "name": "stdout"
        }
      ]
    },
    {
      "cell_type": "code",
      "metadata": {
        "colab": {
          "base_uri": "https://localhost:8080/"
        },
        "id": "vvMjBYZtfDHu",
        "outputId": "b3745ebe-6a60-44bb-a4c9-05bdc204d631"
      },
      "source": [
        "op1 = tf.add(a,b)\n",
        "op1"
      ],
      "execution_count": null,
      "outputs": [
        {
          "output_type": "execute_result",
          "data": {
            "text/plain": [
              "<tf.Tensor: shape=(), dtype=int32, numpy=30>"
            ]
          },
          "metadata": {
            "tags": []
          },
          "execution_count": 20
        }
      ]
    },
    {
      "cell_type": "code",
      "metadata": {
        "colab": {
          "base_uri": "https://localhost:8080/"
        },
        "id": "sGcn8n1Jks9P",
        "outputId": "1ab69861-29e1-45c3-90eb-af0ae6549d55"
      },
      "source": [
        "v = a+b\n",
        "u = v+2\n",
        "w = v*u\n",
        "z = w*3\n",
        "z"
      ],
      "execution_count": null,
      "outputs": [
        {
          "output_type": "execute_result",
          "data": {
            "text/plain": [
              "<tf.Tensor: shape=(), dtype=int32, numpy=2880>"
            ]
          },
          "metadata": {
            "tags": []
          },
          "execution_count": 21
        }
      ]
    },
    {
      "cell_type": "code",
      "metadata": {
        "id": "z23eiO2rkxKM"
      },
      "source": [
        "@tf.function\n",
        "def func(a,b):\n",
        "        z = tf.multiply(a,b, name='z')\n",
        "        y1 = tf.constant(3, name='3')\n",
        "        y2 = tf.constant(4)\n",
        "        w1 = tf.add(z, y1, name='w1')\n",
        "        w2 = tf.add(z, y2, name='w2')\n",
        "        \n",
        "        return(w1+w2)"
      ],
      "execution_count": null,
      "outputs": []
    },
    {
      "cell_type": "code",
      "metadata": {
        "colab": {
          "base_uri": "https://localhost:8080/"
        },
        "id": "ioqmxkUslakC",
        "outputId": "83fb8977-8fe8-4da4-b1b3-aba7119e1b4d"
      },
      "source": [
        "func(10, 20)"
      ],
      "execution_count": null,
      "outputs": [
        {
          "output_type": "execute_result",
          "data": {
            "text/plain": [
              "<tf.Tensor: shape=(), dtype=int32, numpy=407>"
            ]
          },
          "metadata": {
            "tags": []
          },
          "execution_count": 27
        }
      ]
    },
    {
      "cell_type": "code",
      "metadata": {
        "colab": {
          "base_uri": "https://localhost:8080/"
        },
        "id": "f7lFydWbmRjF",
        "outputId": "666506e9-50ae-446a-e6d6-acdc4b160d0b"
      },
      "source": [
        "from datetime import datetime\n",
        "import os\n",
        "import pathlib\n",
        "\n",
        "t = datetime.utcnow().strftime(\"%Y%m%d%H%M%S\") \n",
        "log_dir = \"tf_logs\"\n",
        "logd = \"{}/r{}/\".format(log_dir, t)\n",
        "\n",
        "# Make directory if it doesn't exist\n",
        "\n",
        "from pathlib import Path\n",
        "home = str(Path.home())\n",
        "\n",
        "logdir = os.path.join(os.sep,home,logd)\n",
        "\n",
        "if not os.path.exists(logdir):\n",
        "    os.makedirs(logdir)\n",
        "\n",
        "print(logdir)"
      ],
      "execution_count": null,
      "outputs": [
        {
          "output_type": "stream",
          "text": [
            "/root/tf_logs/r20210625095655/\n"
          ],
          "name": "stdout"
        }
      ]
    },
    {
      "cell_type": "code",
      "metadata": {
        "id": "Un7V5LN6mcq1"
      },
      "source": [
        "# Setup a writer to save graph information and TensorFlow logs\n",
        "# To be displayed with Tensorboard\n",
        "\n",
        "writer = tf.summary.create_file_writer(logdir)\n",
        "tf.summary.trace_on()"
      ],
      "execution_count": null,
      "outputs": []
    },
    {
      "cell_type": "code",
      "metadata": {
        "id": "5JVa77M_mgI9"
      },
      "source": [
        "a = tf.constant(3)\n",
        "b = tf.constant(4)\n",
        "func(a,b)\n",
        "with writer.as_default():\n",
        "    tf.summary.trace_export(\n",
        "        name=\"func2\",\n",
        "        step=0,\n",
        "        profiler_outdir=logdir)"
      ],
      "execution_count": null,
      "outputs": []
    },
    {
      "cell_type": "code",
      "metadata": {
        "colab": {
          "base_uri": "https://localhost:8080/"
        },
        "id": "hKW0B06smmFN",
        "outputId": "e2146030-19fc-4aa2-85e7-fe7e5b9e48e4"
      },
      "source": [
        "# run tensorboard in the shell\n",
        "!tensorboard --logdir $logdir"
      ],
      "execution_count": null,
      "outputs": [
        {
          "output_type": "stream",
          "text": [
            "2021-06-25 09:57:43.997012: I tensorflow/stream_executor/platform/default/dso_loader.cc:53] Successfully opened dynamic library libcudart.so.11.0\n",
            "\n",
            "NOTE: Using experimental fast data loading logic. To disable, pass\n",
            "    \"--load_fast=false\" and report issues on GitHub. More details:\n",
            "    https://github.com/tensorflow/tensorboard/issues/4784\n",
            "\n",
            "Serving TensorBoard on localhost; to expose to the network, use a proxy or pass --bind_all\n",
            "TensorBoard 2.5.0 at http://localhost:6006/ (Press CTRL+C to quit)\n"
          ],
          "name": "stdout"
        }
      ]
    },
    {
      "cell_type": "code",
      "metadata": {
        "colab": {
          "base_uri": "https://localhost:8080/"
        },
        "id": "K9LIdoElmosU",
        "outputId": "d715e57d-030b-48cd-c727-8c85cdf98bc6"
      },
      "source": [
        "w = tf.Variable(3.0)\n",
        "\n",
        "# Gradient scope for the function w^2\n",
        "with tf.GradientTape() as tape:\n",
        "    expression = tf.exp(w) + 2 * w +  w * w\n",
        "\n",
        "grad = tape.gradient(expression, w)\n",
        "print(f'The gradient of exp at {w.numpy()} is {grad.numpy()}')"
      ],
      "execution_count": null,
      "outputs": [
        {
          "output_type": "stream",
          "text": [
            "The gradient of exp at 3.0 is 28.08553695678711\n"
          ],
          "name": "stdout"
        }
      ]
    },
    {
      "cell_type": "code",
      "metadata": {
        "id": "yWwBwgcXrYEE"
      },
      "source": [
        "# Gradient of the Sigmoid function\n",
        "\n",
        "def sigmoid(x):\n",
        "    return 1/(1 + tf.exp(-x))"
      ],
      "execution_count": null,
      "outputs": []
    },
    {
      "cell_type": "code",
      "metadata": {
        "colab": {
          "base_uri": "https://localhost:8080/"
        },
        "id": "Lq62TNmHuF19",
        "outputId": "5938fbc9-5d9a-439e-d26c-16ad449ed7b2"
      },
      "source": [
        "#define a varaible\n",
        "x = tf.Variable(0.)\n",
        "\n",
        "#record the gradient\n",
        "with tf.GradientTape() as tape:\n",
        "    sig = sigmoid(x)\n",
        "    \n",
        "res = tape.gradient(sig, x).numpy()\n",
        "print('The gradient of the sigmoid function at 0.0 is :', res)"
      ],
      "execution_count": null,
      "outputs": [
        {
          "output_type": "stream",
          "text": [
            "The gradient of the sigmoid function at 0.0 is : 0.25\n"
          ],
          "name": "stdout"
        }
      ]
    },
    {
      "cell_type": "code",
      "metadata": {
        "id": "L7ZzTyntuIkW"
      },
      "source": [
        ""
      ],
      "execution_count": null,
      "outputs": []
    }
  ]
}